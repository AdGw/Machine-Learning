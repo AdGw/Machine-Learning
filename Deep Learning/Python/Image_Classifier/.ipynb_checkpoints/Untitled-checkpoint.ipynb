{
 "cells": [
  {
   "cell_type": "code",
   "execution_count": 7,
   "metadata": {},
   "outputs": [],
   "source": [
    "import numpy as np\n",
    "import os\n",
    "from matplotlib import pyplot as plt\n",
    "import cv2\n",
    "import random\n",
    "import pickle\n",
    "\n",
    "\n",
    "file_list = []\n",
    "class_list = []\n",
    "\n",
    "DATADIR = \"Data\""
   ]
  },
  {
   "cell_type": "code",
   "execution_count": 8,
   "metadata": {},
   "outputs": [],
   "source": [
    "CATEGORIES = [\"Animal\", \"Vehicle\", \"Credit_card\"]"
   ]
  },
  {
   "cell_type": "code",
   "execution_count": 67,
   "metadata": {},
   "outputs": [
    {
     "name": "stdout",
     "output_type": "stream",
     "text": [
      "Downloading data from https://storage.googleapis.com/tensorflow/tf-keras-datasets/mnist.npz\n",
      "11493376/11490434 [==============================] - 1s 0us/step\n"
     ]
    }
   ],
   "source": [
    "IMG_SIZE = 50\n",
    "from tensorflow.keras.datasets import mnist\n",
    "(x_train, y_train), (x_test, y_test) = mnist.load_data()"
   ]
  },
  {
   "cell_type": "code",
   "execution_count": 68,
   "metadata": {},
   "outputs": [],
   "source": [
    "for category in CATEGORIES :\n",
    "\tpath = os.path.join(DATADIR, category)\n",
    "\tfor img in os.listdir(path):\n",
    "\t\timg_array = cv2.imread(os.path.join(path, img), cv2.IMREAD_GRAYSCALE)"
   ]
  },
  {
   "cell_type": "code",
   "execution_count": 13,
   "metadata": {},
   "outputs": [],
   "source": [
    "training_data = []\n",
    "\n",
    "def create_training_data():\n",
    "\tfor category in CATEGORIES :\n",
    "\t\tpath = os.path.join(DATADIR, category)\n",
    "\t\tclass_num = CATEGORIES.index(category)\n",
    "\t\tfor img in os.listdir(path):\n",
    "\t\t\ttry :\n",
    "\t\t\t\timg_array = cv2.imread(os.path.join(path, img), cv2.IMREAD_GRAYSCALE)\n",
    "\t\t\t\tnew_array = cv2.resize(img_array, (IMG_SIZE, IMG_SIZE))\n",
    "\t\t\t\ttraining_data.append([new_array, class_num])\n",
    "\t\t\texcept Exception as e:\n",
    "\t\t\t\tpass\n",
    "\n",
    "create_training_data()"
   ]
  },
  {
   "cell_type": "code",
   "execution_count": 69,
   "metadata": {},
   "outputs": [],
   "source": [
    "random.shuffle(training_data)"
   ]
  },
  {
   "cell_type": "code",
   "execution_count": 70,
   "metadata": {},
   "outputs": [],
   "source": [
    "X = [] #features\n",
    "y = [] #labels\n",
    "\n",
    "for features, label in training_data:\n",
    "\tX.append(features)\n",
    "\ty.append(label)\n",
    "\n",
    "X = np.array(X).reshape(-1, IMG_SIZE, IMG_SIZE, 1)\n",
    "\n",
    "# Creating the files containing all the information about your model\n",
    "pickle_out = open(\"X.pickle\", \"wb\")\n",
    "pickle.dump(X, pickle_out)\n",
    "pickle_out.close()\n",
    "\n",
    "pickle_out = open(\"y.pickle\", \"wb\")\n",
    "pickle.dump(y, pickle_out)\n",
    "pickle_out.close()\n",
    "\n",
    "pickle_in = open(\"X.pickle\", \"rb\")\n",
    "X = pickle.load(pickle_in)"
   ]
  },
  {
   "cell_type": "code",
   "execution_count": 77,
   "metadata": {},
   "outputs": [
    {
     "name": "stdout",
     "output_type": "stream",
     "text": [
      "Train on 573 samples, validate on 64 samples\n",
      "Epoch 1/40\n",
      "573/573 [==============================] - 12s 21ms/sample - loss: 1.5763 - acc: 0.3770 - val_loss: 1.1634 - val_acc: 0.4062\n",
      "Epoch 2/40\n",
      "573/573 [==============================] - 10s 17ms/sample - loss: 1.0340 - acc: 0.4817 - val_loss: 1.0805 - val_acc: 0.4531\n",
      "Epoch 3/40\n",
      "573/573 [==============================] - 10s 17ms/sample - loss: 0.9417 - acc: 0.5654 - val_loss: 0.8212 - val_acc: 0.7344\n",
      "Epoch 4/40\n",
      "573/573 [==============================] - 10s 17ms/sample - loss: 0.7277 - acc: 0.6894 - val_loss: 0.7043 - val_acc: 0.7500\n",
      "Epoch 5/40\n",
      "573/573 [==============================] - 10s 17ms/sample - loss: 0.6628 - acc: 0.7173 - val_loss: 0.7592 - val_acc: 0.6875\n",
      "Epoch 6/40\n",
      "573/573 [==============================] - 10s 17ms/sample - loss: 0.5986 - acc: 0.7452 - val_loss: 0.5707 - val_acc: 0.7500\n",
      "Epoch 7/40\n",
      "573/573 [==============================] - 10s 17ms/sample - loss: 0.5295 - acc: 0.7906 - val_loss: 0.5963 - val_acc: 0.7969\n",
      "Epoch 8/40\n",
      "573/573 [==============================] - 10s 17ms/sample - loss: 0.4987 - acc: 0.8045 - val_loss: 0.5440 - val_acc: 0.7812\n",
      "Epoch 9/40\n",
      "573/573 [==============================] - 10s 17ms/sample - loss: 0.4448 - acc: 0.8202 - val_loss: 0.4263 - val_acc: 0.8438\n",
      "Epoch 10/40\n",
      "573/573 [==============================] - 10s 17ms/sample - loss: 0.3985 - acc: 0.8342 - val_loss: 0.3699 - val_acc: 0.8438\n",
      "Epoch 11/40\n",
      "573/573 [==============================] - 10s 17ms/sample - loss: 0.3547 - acc: 0.8639 - val_loss: 0.4126 - val_acc: 0.8438\n",
      "Epoch 12/40\n",
      "573/573 [==============================] - 10s 17ms/sample - loss: 0.3120 - acc: 0.8778 - val_loss: 0.3053 - val_acc: 0.9219\n",
      "Epoch 13/40\n",
      "573/573 [==============================] - 10s 17ms/sample - loss: 0.3141 - acc: 0.8674 - val_loss: 0.3115 - val_acc: 0.8906\n",
      "Epoch 14/40\n",
      "573/573 [==============================] - 10s 17ms/sample - loss: 0.2563 - acc: 0.9197 - val_loss: 0.2936 - val_acc: 0.9219\n",
      "Epoch 15/40\n",
      "573/573 [==============================] - 10s 17ms/sample - loss: 0.2415 - acc: 0.9092 - val_loss: 0.2774 - val_acc: 0.9062\n",
      "Epoch 16/40\n",
      "573/573 [==============================] - 10s 17ms/sample - loss: 0.2019 - acc: 0.9232 - val_loss: 0.2590 - val_acc: 0.9062\n",
      "Epoch 17/40\n",
      "573/573 [==============================] - 10s 17ms/sample - loss: 0.1703 - acc: 0.9424 - val_loss: 0.3197 - val_acc: 0.8906\n",
      "Epoch 18/40\n",
      "573/573 [==============================] - 10s 17ms/sample - loss: 0.2343 - acc: 0.9145 - val_loss: 0.3224 - val_acc: 0.8906\n",
      "Epoch 19/40\n",
      "573/573 [==============================] - 10s 17ms/sample - loss: 0.1870 - acc: 0.9302 - val_loss: 0.2919 - val_acc: 0.9062\n",
      "Epoch 20/40\n",
      "573/573 [==============================] - 10s 17ms/sample - loss: 0.1590 - acc: 0.9407 - val_loss: 0.2922 - val_acc: 0.8750\n",
      "Epoch 21/40\n",
      "573/573 [==============================] - 10s 17ms/sample - loss: 0.1407 - acc: 0.9546 - val_loss: 0.2937 - val_acc: 0.9062\n",
      "Epoch 22/40\n",
      "573/573 [==============================] - 10s 17ms/sample - loss: 0.1127 - acc: 0.9634 - val_loss: 0.2826 - val_acc: 0.9062\n",
      "Epoch 23/40\n",
      "573/573 [==============================] - 10s 17ms/sample - loss: 0.1158 - acc: 0.9564 - val_loss: 0.2788 - val_acc: 0.9062\n",
      "Epoch 24/40\n",
      "573/573 [==============================] - 10s 17ms/sample - loss: 0.0867 - acc: 0.9564 - val_loss: 0.3133 - val_acc: 0.8906\n",
      "Epoch 25/40\n",
      "573/573 [==============================] - 10s 17ms/sample - loss: 0.0769 - acc: 0.9791 - val_loss: 0.2689 - val_acc: 0.9062\n",
      "Epoch 26/40\n",
      "573/573 [==============================] - 10s 17ms/sample - loss: 0.0788 - acc: 0.9703 - val_loss: 0.2796 - val_acc: 0.9219\n",
      "Epoch 27/40\n",
      "573/573 [==============================] - 10s 17ms/sample - loss: 0.0796 - acc: 0.9703 - val_loss: 0.3611 - val_acc: 0.9062\n",
      "Epoch 28/40\n",
      "573/573 [==============================] - 10s 17ms/sample - loss: 0.0679 - acc: 0.9721 - val_loss: 0.3388 - val_acc: 0.9062\n",
      "Epoch 29/40\n",
      "573/573 [==============================] - 10s 17ms/sample - loss: 0.0640 - acc: 0.9791 - val_loss: 0.2971 - val_acc: 0.9062\n",
      "Epoch 30/40\n",
      "573/573 [==============================] - 10s 17ms/sample - loss: 0.0376 - acc: 0.9895 - val_loss: 0.3755 - val_acc: 0.9219\n",
      "Epoch 31/40\n",
      "573/573 [==============================] - 10s 17ms/sample - loss: 0.0304 - acc: 0.9965 - val_loss: 0.3550 - val_acc: 0.9219\n",
      "Epoch 32/40\n",
      "573/573 [==============================] - 10s 17ms/sample - loss: 0.0387 - acc: 0.9860 - val_loss: 0.3708 - val_acc: 0.9062\n",
      "Epoch 33/40\n",
      "573/573 [==============================] - 10s 17ms/sample - loss: 0.0338 - acc: 0.9930 - val_loss: 0.3848 - val_acc: 0.8906\n",
      "Epoch 34/40\n",
      "573/573 [==============================] - 10s 17ms/sample - loss: 0.0269 - acc: 0.9948 - val_loss: 0.3438 - val_acc: 0.8906\n",
      "Epoch 35/40\n",
      "573/573 [==============================] - 10s 17ms/sample - loss: 0.0213 - acc: 0.9948 - val_loss: 0.4831 - val_acc: 0.9062\n",
      "Epoch 36/40\n",
      "573/573 [==============================] - 10s 17ms/sample - loss: 0.0236 - acc: 0.9895 - val_loss: 0.4129 - val_acc: 0.9062\n",
      "Epoch 37/40\n",
      "573/573 [==============================] - 10s 17ms/sample - loss: 0.0196 - acc: 0.9948 - val_loss: 0.4198 - val_acc: 0.9062\n",
      "Epoch 38/40\n",
      "573/573 [==============================] - 10s 17ms/sample - loss: 0.0374 - acc: 0.9878 - val_loss: 0.3843 - val_acc: 0.8906\n",
      "Epoch 39/40\n",
      "573/573 [==============================] - 10s 17ms/sample - loss: 0.0426 - acc: 0.9843 - val_loss: 0.3913 - val_acc: 0.8906\n",
      "Epoch 40/40\n",
      "573/573 [==============================] - 10s 17ms/sample - loss: 0.0122 - acc: 1.0000 - val_loss: 0.3840 - val_acc: 0.9062\n",
      "Saved model to disk\n",
      "dict_keys(['loss', 'acc', 'val_loss', 'val_acc'])\n"
     ]
    },
    {
     "data": {
      "text/plain": [
       "<matplotlib.legend.Legend at 0x144fba58b00>"
      ]
     },
     "execution_count": 77,
     "metadata": {},
     "output_type": "execute_result"
    },
    {
     "data": {
      "image/png": "[encoded data removed]",
      "text/plain": [
       "<Figure size 432x288 with 1 Axes>"
      ]
     },
     "metadata": {
      "needs_background": "light"
     },
     "output_type": "display_data"
    }
   ],
   "source": [
    "import tensorflow as tf \n",
    "from tensorflow.keras.models import Sequential\n",
    "from tensorflow.keras.layers import Dense, Dropout, Activation, Flatten, Conv2D, MaxPooling2D\n",
    "import pickle\n",
    "from tensorflow.keras.models import model_from_json\n",
    "from tensorflow.keras.models import load_model\n",
    "import matplotlib.pyplot as plt\n",
    "\n",
    "# Opening the files about data\n",
    "X = pickle.load(open(\"X.pickle\", \"rb\"))\n",
    "y = pickle.load(open(\"y.pickle\", \"rb\"))\n",
    "\n",
    "# normalizing data (a pixel goes from 0 to 255)\n",
    "X = X/255.0\n",
    "\n",
    "# Building the model\n",
    "model = Sequential()\n",
    "# 3 convolutional layers\n",
    "model.add(Conv2D(32, (3, 3), input_shape = X.shape[1:]))\n",
    "model.add(Activation(\"relu\"))\n",
    "model.add(MaxPooling2D(pool_size=(2,2)))\n",
    "\n",
    "model.add(Conv2D(64, (3, 3)))\n",
    "model.add(Activation(\"relu\"))\n",
    "model.add(MaxPooling2D(pool_size=(2,2)))\n",
    "\n",
    "model.add(Conv2D(64, (3, 3)))\n",
    "model.add(Activation(\"relu\"))\n",
    "model.add(MaxPooling2D(pool_size=(2,2)))\n",
    "model.add(Dropout(0.25))\n",
    "\n",
    "# 2 hidden layers\n",
    "model.add(Flatten())\n",
    "model.add(Dense(128))\n",
    "model.add(Activation(\"relu\"))\n",
    "\n",
    "model.add(Dense(128))\n",
    "model.add(Activation(\"relu\"))\n",
    "\n",
    "# The output layer with 13 neurons, for 13 classes\n",
    "model.add(Dense(13))\n",
    "model.add(Activation(\"softmax\"))\n",
    "\n",
    "# Compiling the model using some basic parameters\n",
    "model.compile(loss=\"sparse_categorical_crossentropy\",\n",
    "\t\t\t\toptimizer=\"adam\",\n",
    "\t\t\t\tmetrics=[\"accuracy\"])\n",
    "\n",
    "# Training the model, with 40 iterations\n",
    "# validation_split corresponds to the percentage of images used for the validation phase compared to all the images\n",
    "history = model.fit(X, y, batch_size=32, epochs=40, validation_split=0.1)\n",
    "\n",
    "# Saving the model\n",
    "model_json = model.to_json()\n",
    "with open(\"model.json\", \"w\") as json_file :\n",
    "\tjson_file.write(model_json)\n",
    "\n",
    "model.save_weights(\"model.h5\")\n",
    "print(\"Saved model to disk\")\n",
    "\n",
    "model.save('CNN2.model')\n",
    "\n",
    "# Printing a graph showing the accuracy changes during the training phase\n",
    "print(history.history.keys())\n",
    "plt.figure(1)\n",
    "plt.plot(history.history['acc'])\n",
    "plt.plot(history.history['val_acc'])\n",
    "plt.title('model accuracy')\n",
    "plt.ylabel('accuracy')\n",
    "plt.xlabel('epoch')\n",
    "plt.legend(['train', 'validation'], loc='upper left')"
   ]
  },
  {
   "cell_type": "code",
   "execution_count": 110,
   "metadata": {},
   "outputs": [
    {
     "name": "stdout",
     "output_type": "stream",
     "text": [
      "Vehicle\n"
     ]
    }
   ],
   "source": [
    "from tensorflow.keras.applications.resnet50 import preprocess_input, decode_predictions\n",
    "def prepare(file):\n",
    "    IMG_SIZE = 50\n",
    "    img_array = cv2.imread(file, cv2.IMREAD_GRAYSCALE)\n",
    "    new_array = cv2.resize(img_array, (IMG_SIZE, IMG_SIZE))\n",
    "    return new_array.reshape(-1, IMG_SIZE, IMG_SIZE, 1)\n",
    "model = tf.keras.models.load_model(\"CNN2.model\")\n",
    "image = prepare(\"data/test/a5.jpg\")\n",
    "prediction = model.predict([image])\n",
    "prediction = list(prediction[0])\n",
    "print(CATEGORIES[prediction.index(max(prediction))])"
   ]
  },
  {
   "cell_type": "code",
   "execution_count": null,
   "metadata": {},
   "outputs": [],
   "source": []
  }
 ],
 "metadata": {
  "kernelspec": {
   "display_name": "Python 3",
   "language": "python",
   "name": "python3"
  },
  "language_info": {
   "codemirror_mode": {
    "name": "ipython",
    "version": 3
   },
   "file_extension": ".py",
   "mimetype": "text/x-python",
   "name": "python",
   "nbconvert_exporter": "python",
   "pygments_lexer": "ipython3",
   "version": "3.7.3"
  }
 },
 "nbformat": 4,
 "nbformat_minor": 2
}
