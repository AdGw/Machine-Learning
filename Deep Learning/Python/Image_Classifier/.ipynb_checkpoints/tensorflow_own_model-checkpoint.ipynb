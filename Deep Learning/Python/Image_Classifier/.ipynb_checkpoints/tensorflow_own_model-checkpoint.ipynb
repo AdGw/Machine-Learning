{
 "cells": [
  {
   "cell_type": "code",
   "execution_count": 1,
   "metadata": {},
   "outputs": [],
   "source": [
    "\n",
    "import numpy as np\n",
    "import os\n",
    "from matplotlib import pyplot as plt\n",
    "import cv2\n",
    "import random\n",
    "import pickle\n",
    "import tensorflow\n",
    "\n",
    "file_list = []\n",
    "class_list = []\n",
    "\n",
    "DATADIR = \"data2\""
   ]
  },
  {
   "cell_type": "code",
   "execution_count": 2,
   "metadata": {},
   "outputs": [],
   "source": [
    "CATEGORIES = [    \n",
    "    \"Certyfikaty\",\n",
    "    \"CV\",\n",
    "    \"Dokumenty (Faktury, Umowy, Zarzadzenia)\",\n",
    "    \"Dokumenty Tozsamosci\",\n",
    "    \"Karty Kredytowe\",\n",
    "    \"Odciski Palcow\",\n",
    "    \"Publikacje Naukowe i Artykuly\",\n",
    "    \"Wykresy i Schematy\"\n",
    "]\n",
    "\n",
    "\n",
    "# CATEGORIES = [\"Animal\", \"Vehicle\", \"Credit_card\"]"
   ]
  },
  {
   "cell_type": "code",
   "execution_count": 3,
   "metadata": {},
   "outputs": [],
   "source": [
    "IMG_SIZE = 200"
   ]
  },
  {
   "cell_type": "code",
   "execution_count": 4,
   "metadata": {},
   "outputs": [],
   "source": [
    "\n",
    "for category in CATEGORIES :\n",
    "\tpath = os.path.join(DATADIR, category)\n",
    "\tfor img in os.listdir(path):\n",
    "\t\timg_array = cv2.imread(os.path.join(path, img), cv2.IMREAD_GRAYSCALE)"
   ]
  },
  {
   "cell_type": "code",
   "execution_count": 5,
   "metadata": {},
   "outputs": [],
   "source": [
    "training_data = []\n",
    "import tensorflow as tf \n",
    "def create_training_data():\n",
    "\tfor category in CATEGORIES :\n",
    "\t\tpath = os.path.join(DATADIR, category)\n",
    "\t\tclass_num = CATEGORIES.index(category)\n",
    "\t\tfor img in os.listdir(path):\n",
    "\t\t\ttry :\n",
    "\t\t\t\timg_array = cv2.imread(os.path.join(path, img), cv2.IMREAD_GRAYSCALE)\n",
    "\t\t\t\tnew_array = cv2.resize(img_array, (IMG_SIZE, IMG_SIZE))\n",
    "\t\t\t\ttraining_data.append([new_array, class_num])\n",
    "\t\t\texcept Exception as e:\n",
    "\t\t\t\tpass\n",
    "create_training_data()\n",
    "print(len(training_data))\n",
    "random.shuffle(training_data)"
   ]
  },
  {
   "cell_type": "code",
   "execution_count": 6,
   "metadata": {},
   "outputs": [],
   "source": [
    "X = [] #features\n",
    "# y = np.array(y)\n",
    "y = [] #labels\n",
    "\n",
    "for features, label in training_data:\n",
    "    X.append(features)\n",
    "    y.append(label)\n",
    "#     np.array((y, label))\n",
    "y = np.array(y)\n",
    "X = np.array(X).reshape(-1, IMG_SIZE, IMG_SIZE, 1)\n",
    "\n",
    "pickle_out = open(\"X.pickle\", \"wb\")\n",
    "pickle.dump(X, pickle_out)\n",
    "pickle_out.close()\n",
    "\n",
    "pickle_out = open(\"y.pickle\", \"wb\")\n",
    "pickle.dump(y, pickle_out)\n",
    "pickle_out.close()\n",
    "\n",
    "# pickle_in = open(\"X.pickle\", \"rb\")\n",
    "# X = pickle.load(pickle_in)"
   ]
  },
  {
   "cell_type": "code",
   "execution_count": 1,
   "metadata": {},
   "outputs": [
    {
     "name": "stdout",
     "output_type": "stream",
     "text": [
      "Epoch 1/15\n",
      "WARNING:tensorflow:AutoGraph could not transform <function Model.make_train_function.<locals>.train_function at 0x00000175B0FBD438> and will run it as-is.\n",
      "Please report this to the TensorFlow team. When filing the bug, set the verbosity to 10 (on Linux, `export AUTOGRAPH_VERBOSITY=10`) and attach the full output.\n",
      "Cause: Bad argument number for Name: 4, expecting 3\n",
      "To silence this warning, decorate the function with @tf.autograph.experimental.do_not_convert\n",
      "WARNING: AutoGraph could not transform <function Model.make_train_function.<locals>.train_function at 0x00000175B0FBD438> and will run it as-is.\n",
      "Please report this to the TensorFlow team. When filing the bug, set the verbosity to 10 (on Linux, `export AUTOGRAPH_VERBOSITY=10`) and attach the full output.\n",
      "Cause: Bad argument number for Name: 4, expecting 3\n",
      "To silence this warning, decorate the function with @tf.autograph.experimental.do_not_convert\n",
      "152/152 [==============================] - ETA: 0s - loss: 1.5504 - accuracy: 0.5139WARNING:tensorflow:AutoGraph could not transform <function Model.make_test_function.<locals>.test_function at 0x00000175EBD09798> and will run it as-is.\n",
      "Please report this to the TensorFlow team. When filing the bug, set the verbosity to 10 (on Linux, `export AUTOGRAPH_VERBOSITY=10`) and attach the full output.\n",
      "Cause: Bad argument number for Name: 4, expecting 3\n",
      "To silence this warning, decorate the function with @tf.autograph.experimental.do_not_convert\n",
      "WARNING: AutoGraph could not transform <function Model.make_test_function.<locals>.test_function at 0x00000175EBD09798> and will run it as-is.\n",
      "Please report this to the TensorFlow team. When filing the bug, set the verbosity to 10 (on Linux, `export AUTOGRAPH_VERBOSITY=10`) and attach the full output.\n",
      "Cause: Bad argument number for Name: 4, expecting 3\n",
      "To silence this warning, decorate the function with @tf.autograph.experimental.do_not_convert\n",
      "152/152 [==============================] - 7s 46ms/step - loss: 1.5504 - accuracy: 0.5139 - val_loss: 1.4572 - val_accuracy: 0.4148\n",
      "Epoch 2/15\n",
      "152/152 [==============================] - 6s 42ms/step - loss: 0.8555 - accuracy: 0.6998 - val_loss: 0.8206 - val_accuracy: 0.7127\n",
      "Epoch 3/15\n",
      "152/152 [==============================] - 6s 43ms/step - loss: 0.6267 - accuracy: 0.7836 - val_loss: 0.7920 - val_accuracy: 0.7218\n",
      "Epoch 4/15\n",
      "152/152 [==============================] - 6s 42ms/step - loss: 0.4924 - accuracy: 0.8314 - val_loss: 0.8560 - val_accuracy: 0.7127\n",
      "Epoch 5/15\n",
      "152/152 [==============================] - 6s 42ms/step - loss: 0.3385 - accuracy: 0.8805 - val_loss: 0.9418 - val_accuracy: 0.7478\n",
      "Epoch 6/15\n",
      "152/152 [==============================] - 6s 42ms/step - loss: 0.2480 - accuracy: 0.9094 - val_loss: 0.8805 - val_accuracy: 0.7719\n",
      "Epoch 7/15\n",
      "152/152 [==============================] - 6s 42ms/step - loss: 0.1696 - accuracy: 0.9431 - val_loss: 0.8985 - val_accuracy: 0.7753\n",
      "Epoch 8/15\n",
      "152/152 [==============================] - 6s 42ms/step - loss: 0.1397 - accuracy: 0.9519 - val_loss: 1.0498 - val_accuracy: 0.7618\n",
      "Epoch 9/15\n",
      "152/152 [==============================] - 6s 42ms/step - loss: 0.1071 - accuracy: 0.9641 - val_loss: 0.8782 - val_accuracy: 0.7854\n",
      "Epoch 10/15\n",
      "152/152 [==============================] - 6s 42ms/step - loss: 0.0993 - accuracy: 0.9682 - val_loss: 0.9841 - val_accuracy: 0.7757\n",
      "Epoch 11/15\n",
      "152/152 [==============================] - 6s 42ms/step - loss: 0.0698 - accuracy: 0.9771 - val_loss: 1.1566 - val_accuracy: 0.7907\n",
      "Epoch 12/15\n",
      "152/152 [==============================] - 6s 42ms/step - loss: 0.0640 - accuracy: 0.9802 - val_loss: 1.1599 - val_accuracy: 0.7729\n",
      "Epoch 13/15\n",
      "152/152 [==============================] - 6s 42ms/step - loss: 0.0710 - accuracy: 0.9767 - val_loss: 1.1623 - val_accuracy: 0.7854\n",
      "Epoch 14/15\n",
      "152/152 [==============================] - 6s 42ms/step - loss: 0.0469 - accuracy: 0.9872 - val_loss: 1.3917 - val_accuracy: 0.7449\n",
      "Epoch 15/15\n",
      "152/152 [==============================] - 6s 42ms/step - loss: 0.0577 - accuracy: 0.9847 - val_loss: 1.1751 - val_accuracy: 0.7940\n",
      "Saved model to disk\n",
      "WARNING:tensorflow:AutoGraph could not transform <function canonicalize_signatures.<locals>.signature_wrapper at 0x0000017865AE1798> and will run it as-is.\n",
      "Please report this to the TensorFlow team. When filing the bug, set the verbosity to 10 (on Linux, `export AUTOGRAPH_VERBOSITY=10`) and attach the full output.\n",
      "Cause: Bad argument number for Name: 4, expecting 3\n",
      "To silence this warning, decorate the function with @tf.autograph.experimental.do_not_convert\n",
      "WARNING: AutoGraph could not transform <function canonicalize_signatures.<locals>.signature_wrapper at 0x0000017865AE1798> and will run it as-is.\n",
      "Please report this to the TensorFlow team. When filing the bug, set the verbosity to 10 (on Linux, `export AUTOGRAPH_VERBOSITY=10`) and attach the full output.\n",
      "Cause: Bad argument number for Name: 4, expecting 3\n",
      "To silence this warning, decorate the function with @tf.autograph.experimental.do_not_convert\n",
      "WARNING:tensorflow:From C:\\Users\\Adi\\AppData\\Roaming\\Python\\Python37\\site-packages\\tensorflow\\python\\ops\\resource_variable_ops.py:1817: calling BaseResourceVariable.__init__ (from tensorflow.python.ops.resource_variable_ops) with constraint is deprecated and will be removed in a future version.\n",
      "Instructions for updating:\n",
      "If using Keras pass *_constraint arguments to layers.\n",
      "INFO:tensorflow:Assets written to: CNN3.model\\assets\n"
     ]
    }
   ],
   "source": [
    "\n",
    "from tensorflow.keras.models import Sequential\n",
    "from tensorflow.keras.layers import Dense, Dropout, Activation, Flatten, Conv2D, MaxPooling2D\n",
    "import pickle\n",
    "from tensorflow.keras.models import model_from_json\n",
    "from tensorflow.keras.models import load_model\n",
    "import matplotlib.pyplot as plt\n",
    "\n",
    "# Opening the files about data\n",
    "X = pickle.load(open(\"X.pickle\", \"rb\"))\n",
    "y = pickle.load(open(\"y.pickle\", \"rb\"))\n",
    "\n",
    "# normalizing data (a pixel goes from 0 to 255)\n",
    "X = X/255.0\n",
    "\n",
    "# Building the model\n",
    "model = Sequential()\n",
    "# 3 convolutional layers\n",
    "model.add(Conv2D(64, (5, 5), input_shape = X.shape[1:]))\n",
    "model.add(Activation(\"relu\"))\n",
    "model.add(MaxPooling2D(pool_size=(2,2)))\n",
    "\n",
    "model.add(Conv2D(64, (3, 3)))\n",
    "model.add(Activation(\"relu\"))\n",
    "model.add(MaxPooling2D(pool_size=(2,2)))\n",
    "\n",
    "\n",
    "model.add(Flatten())\n",
    "# model.add(Dense(128))\n",
    "# model.add(Activation(\"relu\"))\n",
    "model.add(Dropout(0.5))\n",
    "model.add(Dense(256))\n",
    "model.add(Activation(\"relu\"))\n",
    "\n",
    "model.add(Dense(8))\n",
    "model.add(Activation(\"softmax\"))\n",
    "\n",
    "# Compiling the model using some basic parameters\n",
    "model.compile(loss=\"sparse_categorical_crossentropy\",\n",
    "\t\t\t\toptimizer=\"adam\",\n",
    "\t\t\t\tmetrics=[\"accuracy\"])\n",
    "\n",
    "# Training the model, with 40 iterations\n",
    "# validation_split corresponds to the percentage of images used for the validation phase compared to all the images\n",
    "history = model.fit(X, y, batch_size=32, epochs=15, validation_split=0.3)\n",
    "\n",
    "# Saving the model\n",
    "model_json = model.to_json()\n",
    "with open(\"model.json\", \"w\") as json_file :\n",
    "\tjson_file.write(model_json)\n",
    "\n",
    "model.save_weights(\"model.h5\")\n",
    "print(\"Saved model to disk\")\n",
    "\n",
    "model.save('CNN3.model')\n",
    "\n",
    "# Printing a graph showing the accuracy changes during the training phase\n"
   ]
  },
  {
   "cell_type": "code",
   "execution_count": 8,
   "metadata": {},
   "outputs": [
    {
     "name": "stdout",
     "output_type": "stream",
     "text": [
      "dict_keys(['loss', 'accuracy', 'val_loss', 'val_accuracy'])\n"
     ]
    },
    {
     "data": {
      "text/plain": [
       "<matplotlib.legend.Legend at 0x19295a14c08>"
      ]
     },
     "execution_count": 8,
     "metadata": {},
     "output_type": "execute_result"
    },
    {
     "data": {
      "image/png": "[encoded data removed]",
      "text/plain": [
       "<Figure size 432x288 with 1 Axes>"
      ]
     },
     "metadata": {
      "needs_background": "light"
     },
     "output_type": "display_data"
    }
   ],
   "source": [
    "print(history.history.keys())\n",
    "plt.figure(1)\n",
    "plt.plot(history.history['accuracy'])\n",
    "plt.plot(history.history['val_accuracy'])\n",
    "plt.title('model accuracy')\n",
    "plt.ylabel('accuracy')\n",
    "plt.xlabel('epoch')\n",
    "plt.legend(['train', 'validation'], loc='upper left')"
   ]
  },
  {
   "cell_type": "code",
   "execution_count": 4,
   "metadata": {},
   "outputs": [
    {
     "name": "stdout",
     "output_type": "stream",
     "text": [
      "100.0\n",
      "Dokumenty (Faktury, Umowy, Zarzadzenia)\n"
     ]
    }
   ],
   "source": [
    "import tensorflow as tf\n",
    "import cv2\n",
    "import numpy as np\n",
    "# CATEGORIES = [\"Animal\", \"Vehicle\", \"Credit_card\"]\n",
    "CATEGORIES = [    \n",
    "    \"Certyfikaty\",\n",
    "    \"CV\",\n",
    "    \"Dokumenty (Faktury, Umowy, Zarzadzenia)\",\n",
    "    \"Dokumenty Tozsamosci\",\n",
    "    \"Karty Kredytowe\",\n",
    "    \"Odciski Palcow\",\n",
    "    \"Publikacje Naukowe i Artykuly\",\n",
    "    \"Wykresy i Schematy\"\n",
    "]\n",
    "def prepare(file):\n",
    "    IMG_SIZE = 200\n",
    "    img_array = cv2.imread(file)\n",
    "    new_array = cv2.resize(img_array, (IMG_SIZE, IMG_SIZE))\n",
    "    return new_array.reshape(-1, IMG_SIZE, IMG_SIZE, 1)\n",
    "# model = tf.keras.models.load_model(\"CNN3.model\")\n",
    "image = prepare(\"images/palec3.jpg\").astype(np.float32)\n",
    "prediction = model.predict([image])\n",
    "prediction = list(prediction[0])\n",
    "print(max(prediction)*100)\n",
    "print(CATEGORIES[prediction.index(max(prediction))])"
   ]
  },
  {
   "cell_type": "code",
   "execution_count": null,
   "metadata": {},
   "outputs": [],
   "source": []
  }
 ],
 "metadata": {
  "kernelspec": {
   "display_name": "gputest",
   "language": "python",
   "name": "gputest"
  },
  "language_info": {
   "codemirror_mode": {
    "name": "ipython",
    "version": 3
   },
   "file_extension": ".py",
   "mimetype": "text/x-python",
   "name": "python",
   "nbconvert_exporter": "python",
   "pygments_lexer": "ipython3",
   "version": "3.7.7"
  }
 },
 "nbformat": 4,
 "nbformat_minor": 2
}
